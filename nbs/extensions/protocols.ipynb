{
 "cells": [
  {
   "cell_type": "markdown",
   "id": "ae96db62",
   "metadata": {},
   "source": [
    "# protocols\n",
    "\n",
    "> Optional integration protocols for plugin registries, resource management, and event broadcasting."
   ]
  },
  {
   "cell_type": "code",
   "execution_count": null,
   "id": "a07eb3b2",
   "metadata": {},
   "outputs": [],
   "source": [
    "#| default_exp extensions.protocols"
   ]
  },
  {
   "cell_type": "code",
   "execution_count": null,
   "id": "84723108",
   "metadata": {},
   "outputs": [],
   "source": [
    "#| hide\n",
    "from nbdev.showdoc import *"
   ]
  },
  {
   "cell_type": "code",
   "execution_count": null,
   "id": "e26afc97",
   "metadata": {},
   "outputs": [],
   "source": [
    "#| export\n",
    "from typing import Dict, Any, Protocol, Optional, List"
   ]
  },
  {
   "cell_type": "markdown",
   "id": "0c65b5b2",
   "metadata": {},
   "source": [
    "These protocols define optional integrations that can be injected into the `BaseJobManager`. All integrations are optional - the worker system functions without them."
   ]
  },
  {
   "cell_type": "markdown",
   "id": "5a5e3678",
   "metadata": {},
   "source": [
    "## Plugin Registry Protocol"
   ]
  },
  {
   "cell_type": "code",
   "execution_count": null,
   "id": "1285021f",
   "metadata": {},
   "outputs": [],
   "source": "#| export\nclass PluginRegistryProtocol(Protocol):\n    \"\"\"Protocol for plugin registry integration.\"\"\"\n    \n    def get_plugins_by_category(\n        self, \n        category:Any  # Plugin category (can be enum, string, etc.)\n    ) -> list:  # List of plugin metadata objects\n        \"\"\"Get all plugins in a specific category.\"\"\"\n        ...\n    \n    def get_plugin(\n        self, \n        plugin_id:str  # Unique plugin identifier\n    ) -> Any:  # Plugin metadata object or None\n        \"\"\"Get a specific plugin by ID.\"\"\"\n        ...\n    \n    def load_plugin_config(\n        self, \n        plugin_id:str  # Unique plugin identifier\n    ) -> Dict[str, Any]:  # Plugin configuration dictionary\n        \"\"\"Load configuration for a plugin.\"\"\"\n        ..."
  },
  {
   "cell_type": "markdown",
   "id": "7dd3f73d",
   "metadata": {},
   "source": [
    "## Resource Manager Protocol"
   ]
  },
  {
   "cell_type": "code",
   "execution_count": null,
   "id": "91b8c135",
   "metadata": {},
   "outputs": [],
   "source": "#| export\nclass ResourceManagerProtocol(Protocol):\n    \"\"\"Protocol for resource management integration.\"\"\"\n    \n    def register_worker(\n        self,\n        pid:int,  # Worker process ID\n        worker_type:str  # Type of worker (e.g., 'transcription', 'llm')\n    ) -> None:\n        \"\"\"Register a new worker process.\"\"\"\n        ...\n    \n    def unregister_worker(\n        self, \n        pid:int  # Process ID of the worker to unregister\n    ) -> None:\n        \"\"\"Unregister a worker process.\"\"\"\n        ...\n    \n    def update_worker_state(\n        self,\n        pid:int,  # Worker process ID\n        status:Optional[str]=None,  # Worker status: 'idle', 'running', etc.\n        job_id:Optional[str]=None,  # Current job ID (None if idle)\n        plugin_name:Optional[str]=None,  # Currently loaded plugin name\n        plugin_id:Optional[str]=None,  # Currently loaded plugin ID\n        loaded_plugin_resource:Optional[str]=None,  # Currently loaded plugin resource identifier\n        config:Optional[Dict[str, Any]]=None,  # Current plugin configuration\n    ) -> None:\n        \"\"\"Update worker state information.\"\"\"\n        ..."
  },
  {
   "cell_type": "markdown",
   "id": "f33024b0",
   "metadata": {},
   "source": [
    "## Event Broadcaster Protocol"
   ]
  },
  {
   "cell_type": "code",
   "execution_count": null,
   "id": "fe32f4ac",
   "metadata": {},
   "outputs": [],
   "source": "#| export\nclass EventBroadcasterProtocol(Protocol):\n    \"\"\"Protocol for SSE event broadcasting.\"\"\"\n    \n    async def broadcast(\n        self,\n        event_type:str,  # Event type identifier\n        data:Dict[str, Any]  # Event data payload\n    ) -> None:\n        \"\"\"Broadcast an event to all connected clients.\"\"\"\n        ..."
  },
  {
   "cell_type": "markdown",
   "id": "c0181515",
   "metadata": {},
   "source": [
    "## Usage Examples\n",
    "\n",
    "These protocols enable flexible integration:\n",
    "\n",
    "```python\n",
    "# Without any integrations\n",
    "manager = MyJobManager(\n",
    "    worker_type=\"my_worker\",\n",
    "    category=\"processing\"\n",
    ")\n",
    "\n",
    "# With plugin registry only\n",
    "manager = MyJobManager(\n",
    "    worker_type=\"my_worker\",\n",
    "    category=\"processing\",\n",
    "    plugin_registry=my_registry\n",
    ")\n",
    "\n",
    "# With all integrations\n",
    "manager = MyJobManager(\n",
    "    worker_type=\"my_worker\",\n",
    "    category=\"processing\",\n",
    "    plugin_registry=my_registry,\n",
    "    resource_manager=my_resource_mgr,\n",
    "    event_broadcaster=my_sse_manager\n",
    ")\n",
    "```\n",
    "\n",
    "### ResourceManagerProtocol Example\n",
    "\n",
    "The `update_worker_state` method accepts explicit optional parameters:\n",
    "\n",
    "```python\n",
    "class MyResourceManager:\n",
    "    def register_worker(self, pid: int, worker_type: str) -> None:\n",
    "        print(f\"Registered {worker_type} worker with PID {pid}\")\n",
    "    \n",
    "    def unregister_worker(self, pid: int) -> None:\n",
    "        print(f\"Unregistered worker with PID {pid}\")\n",
    "    \n",
    "    def update_worker_state(\n",
    "        self,\n",
    "        pid: int,\n",
    "        status: Optional[str] = None,\n",
    "        job_id: Optional[str] = None,\n",
    "        plugin_name: Optional[str] = None,\n",
    "        plugin_id: Optional[str] = None,\n",
    "        loaded_plugin_resource: Optional[str] = None,\n",
    "        config: Optional[Dict[str, Any]] = None,\n",
    "    ) -> None:\n",
    "        # Update only the provided fields\n",
    "        if status:\n",
    "            print(f\"Worker {pid} status: {status}\")\n",
    "        if job_id:\n",
    "            print(f\"Worker {pid} running job: {job_id}\")\n",
    "        if loaded_plugin_resource:\n",
    "            print(f\"Worker {pid} loaded resource: {loaded_plugin_resource}\")\n",
    "\n",
    "# Usage\n",
    "resource_mgr = MyResourceManager()\n",
    "\n",
    "# Update only status\n",
    "resource_mgr.update_worker_state(pid=12345, status=\"running\")\n",
    "\n",
    "# Update multiple fields\n",
    "resource_mgr.update_worker_state(\n",
    "    pid=12345,\n",
    "    status=\"running\",\n",
    "    job_id=\"abc123\",\n",
    "    loaded_plugin_resource=\"whisper-large-v3\"\n",
    ")\n",
    "\n",
    "# Clear fields (set to None)\n",
    "resource_mgr.update_worker_state(\n",
    "    pid=12345,\n",
    "    status=\"idle\",\n",
    "    job_id=None,  # No job running\n",
    "    loaded_plugin_resource=None  # Resource unloaded\n",
    ")\n",
    "```"
   ]
  },
  {
   "cell_type": "markdown",
   "id": "8jxs166v0os",
   "metadata": {},
   "source": [
    "### Test Implementations\n",
    "\n",
    "Let's create working implementations of these protocols to demonstrate their usage:"
   ]
  },
  {
   "cell_type": "code",
   "execution_count": null,
   "id": "wt2n2fj5j9o",
   "metadata": {},
   "outputs": [
    {
     "data": {
      "text/plain": [
       "[<__main__.PluginMeta>]"
      ]
     },
     "execution_count": null,
     "metadata": {},
     "output_type": "execute_result"
    }
   ],
   "source": [
    "# Test PluginRegistryProtocol implementation\n",
    "class SimplePluginRegistry:\n",
    "    def __init__(self):\n",
    "        # Mock plugin data\n",
    "        self.plugins = {\n",
    "            'plugin-1': type('PluginMeta', (), {\n",
    "                'id': 'plugin-1',\n",
    "                'name': 'Text Processor',\n",
    "                'category': 'processing'\n",
    "            })(),\n",
    "            'plugin-2': type('PluginMeta', (), {\n",
    "                'id': 'plugin-2',\n",
    "                'name': 'Image Analyzer',\n",
    "                'category': 'vision'\n",
    "            })()\n",
    "        }\n",
    "        self.configs = {\n",
    "            'plugin-1': {'model': 'gpt-3.5', 'max_tokens': 100},\n",
    "            'plugin-2': {'model': 'resnet-50', 'device': 'cuda'}\n",
    "        }\n",
    "    \n",
    "    def get_plugins_by_category(self, category):\n",
    "        return [p for p in self.plugins.values() if p.category == category]\n",
    "    \n",
    "    def get_plugin(self, plugin_id):\n",
    "        return self.plugins.get(plugin_id)\n",
    "    \n",
    "    def load_plugin_config(self, plugin_id):\n",
    "        return self.configs.get(plugin_id, {})\n",
    "\n",
    "# Test the implementation\n",
    "registry = SimplePluginRegistry()\n",
    "registry.get_plugins_by_category('processing')"
   ]
  },
  {
   "cell_type": "code",
   "execution_count": null,
   "id": "npitog1dh6",
   "metadata": {},
   "outputs": [
    {
     "name": "stdout",
     "output_type": "stream",
     "text": [
      "Plugin: Text Processor\n",
      "Config: {'model': 'gpt-3.5', 'max_tokens': 100}\n"
     ]
    }
   ],
   "source": [
    "# Test getting a specific plugin and its config\n",
    "plugin = registry.get_plugin('plugin-1')\n",
    "config = registry.load_plugin_config('plugin-1')\n",
    "print(f\"Plugin: {plugin.name}\")\n",
    "print(f\"Config: {config}\")"
   ]
  },
  {
   "cell_type": "code",
   "execution_count": null,
   "id": "akmv5ihzo26",
   "metadata": {},
   "outputs": [
    {
     "name": "stdout",
     "output_type": "stream",
     "text": [
      "Registered transcription worker with PID 12345\n"
     ]
    }
   ],
   "source": [
    "# Test ResourceManagerProtocol implementation\n",
    "class SimpleResourceManager:\n",
    "    def __init__(self):\n",
    "        self.workers = {}\n",
    "    \n",
    "    def register_worker(self, pid, worker_type):\n",
    "        self.workers[pid] = {\n",
    "            'type': worker_type,\n",
    "            'status': 'idle',\n",
    "            'job_id': None,\n",
    "            'plugin_name': None,\n",
    "            'loaded_plugin_resource': None\n",
    "        }\n",
    "        print(f\"Registered {worker_type} worker with PID {pid}\")\n",
    "    \n",
    "    def unregister_worker(self, pid):\n",
    "        if pid in self.workers:\n",
    "            del self.workers[pid]\n",
    "            print(f\"Unregistered worker PID {pid}\")\n",
    "    \n",
    "    def update_worker_state(self, pid, status=None, job_id=None, \n",
    "                           plugin_name=None, plugin_id=None, \n",
    "                           loaded_plugin_resource=None, config=None):\n",
    "        if pid not in self.workers:\n",
    "            return\n",
    "        \n",
    "        if status:\n",
    "            self.workers[pid]['status'] = status\n",
    "        if job_id is not None:\n",
    "            self.workers[pid]['job_id'] = job_id\n",
    "        if plugin_name is not None:\n",
    "            self.workers[pid]['plugin_name'] = plugin_name\n",
    "        if loaded_plugin_resource is not None:\n",
    "            self.workers[pid]['loaded_plugin_resource'] = loaded_plugin_resource\n",
    "        \n",
    "        print(f\"Updated worker {pid}: {self.workers[pid]}\")\n",
    "\n",
    "# Test the implementation\n",
    "resource_mgr = SimpleResourceManager()\n",
    "resource_mgr.register_worker(12345, 'transcription')"
   ]
  },
  {
   "cell_type": "code",
   "execution_count": null,
   "id": "6ygqgv8c4d",
   "metadata": {},
   "outputs": [
    {
     "name": "stdout",
     "output_type": "stream",
     "text": [
      "Updated worker 12345: {'type': 'transcription', 'status': 'running', 'job_id': 'job-abc123', 'plugin_name': 'whisper', 'loaded_plugin_resource': 'whisper-large-v3'}\n"
     ]
    }
   ],
   "source": [
    "# Update worker state - running a job\n",
    "resource_mgr.update_worker_state(\n",
    "    pid=12345,\n",
    "    status='running',\n",
    "    job_id='job-abc123',\n",
    "    plugin_name='whisper',\n",
    "    loaded_plugin_resource='whisper-large-v3'\n",
    ")"
   ]
  },
  {
   "cell_type": "code",
   "execution_count": null,
   "id": "fluzry4kswq",
   "metadata": {},
   "outputs": [
    {
     "name": "stdout",
     "output_type": "stream",
     "text": [
      "Broadcast: job:started - {'job_id': 'job-123', 'plugin': 'test'}\n"
     ]
    }
   ],
   "source": [
    "# Test EventBroadcasterProtocol implementation\n",
    "class SimpleEventBroadcaster:\n",
    "    def __init__(self):\n",
    "        self.events = []\n",
    "    \n",
    "    async def broadcast(self, event_type, data):\n",
    "        event = {'type': event_type, 'data': data}\n",
    "        self.events.append(event)\n",
    "        print(f\"Broadcast: {event_type} - {data}\")\n",
    "\n",
    "# Test the implementation\n",
    "import asyncio\n",
    "\n",
    "broadcaster = SimpleEventBroadcaster()\n",
    "await broadcaster.broadcast('job:started', {'job_id': 'job-123', 'plugin': 'test'})"
   ]
  },
  {
   "cell_type": "code",
   "execution_count": null,
   "id": "pj0tq3h18zt",
   "metadata": {},
   "outputs": [
    {
     "name": "stdout",
     "output_type": "stream",
     "text": [
      "Broadcast: job:completed - {'job_id': 'job-123', 'status': 'success'}\n"
     ]
    },
    {
     "data": {
      "text/plain": [
       "[{'type': 'job:started', 'data': {'job_id': 'job-123', 'plugin': 'test'}},\n",
       " {'type': 'job:completed', 'data': {'job_id': 'job-123', 'status': 'success'}}]"
      ]
     },
     "execution_count": null,
     "metadata": {},
     "output_type": "execute_result"
    }
   ],
   "source": [
    "# Broadcast multiple events\n",
    "await broadcaster.broadcast('job:completed', {'job_id': 'job-123', 'status': 'success'})\n",
    "\n",
    "# View all broadcasted events\n",
    "broadcaster.events"
   ]
  },
  {
   "cell_type": "code",
   "execution_count": null,
   "id": "f71c9178",
   "metadata": {},
   "outputs": [],
   "source": []
  },
  {
   "cell_type": "code",
   "execution_count": null,
   "id": "da0a2a21",
   "metadata": {},
   "outputs": [],
   "source": []
  },
  {
   "cell_type": "code",
   "execution_count": null,
   "id": "fd630455",
   "metadata": {},
   "outputs": [],
   "source": []
  },
  {
   "cell_type": "code",
   "execution_count": null,
   "id": "024face6",
   "metadata": {},
   "outputs": [],
   "source": []
  },
  {
   "cell_type": "code",
   "execution_count": null,
   "id": "4b5c4d91",
   "metadata": {},
   "outputs": [],
   "source": []
  },
  {
   "cell_type": "code",
   "execution_count": null,
   "id": "fcf7c8e7",
   "metadata": {},
   "outputs": [],
   "source": [
    "#| hide\n",
    "import nbdev; nbdev.nbdev_export()"
   ]
  }
 ],
 "metadata": {
  "kernelspec": {
   "display_name": "python3",
   "language": "python",
   "name": "python3"
  }
 },
 "nbformat": 4,
 "nbformat_minor": 5
}
