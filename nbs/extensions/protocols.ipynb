{
 "cells": [
  {
   "cell_type": "markdown",
   "id": "ae96db62",
   "metadata": {},
   "source": [
    "# protocols\n",
    "\n",
    "> Optional integration protocols for plugin registries, resource management, and event broadcasting."
   ]
  },
  {
   "cell_type": "code",
   "execution_count": null,
   "id": "a07eb3b2",
   "metadata": {},
   "outputs": [],
   "source": [
    "#| default_exp extensions.protocols"
   ]
  },
  {
   "cell_type": "code",
   "execution_count": null,
   "id": "84723108",
   "metadata": {},
   "outputs": [],
   "source": [
    "#| hide\n",
    "from nbdev.showdoc import *"
   ]
  },
  {
   "cell_type": "code",
   "execution_count": null,
   "id": "e26afc97",
   "metadata": {},
   "outputs": [],
   "source": [
    "#| export\n",
    "from typing import Dict, Any, Protocol, Optional, List"
   ]
  },
  {
   "cell_type": "markdown",
   "id": "0c65b5b2",
   "metadata": {},
   "source": [
    "These protocols define optional integrations that can be injected into the `BaseJobManager`. All integrations are optional - the worker system functions without them."
   ]
  },
  {
   "cell_type": "markdown",
   "id": "5a5e3678",
   "metadata": {},
   "source": [
    "## Plugin Registry Protocol"
   ]
  },
  {
   "cell_type": "code",
   "execution_count": null,
   "id": "1285021f",
   "metadata": {},
   "outputs": [],
   "source": [
    "#| export\n",
    "class PluginRegistryProtocol(Protocol):\n",
    "    \"\"\"Protocol for plugin registry integration.\"\"\"\n",
    "    \n",
    "    def get_plugins_by_category(self, category: Any) -> list:\n",
    "        \"\"\"\n",
    "        Get all plugins in a specific category.\n",
    "        \n",
    "        Args:\n",
    "            category: Plugin category (can be enum, string, etc.)\n",
    "            \n",
    "        Returns:\n",
    "            List of plugin metadata objects\n",
    "        \"\"\"\n",
    "        ...\n",
    "    \n",
    "    def get_plugin(self, plugin_id: str) -> Any:\n",
    "        \"\"\"\n",
    "        Get a specific plugin by ID.\n",
    "        \n",
    "        Args:\n",
    "            plugin_id: Unique plugin identifier\n",
    "            \n",
    "        Returns:\n",
    "            Plugin metadata object or None\n",
    "        \"\"\"\n",
    "        ...\n",
    "    \n",
    "    def load_plugin_config(self, plugin_id: str) -> Dict[str, Any]:\n",
    "        \"\"\"\n",
    "        Load configuration for a plugin.\n",
    "        \n",
    "        Args:\n",
    "            plugin_id: Unique plugin identifier\n",
    "            \n",
    "        Returns:\n",
    "            Plugin configuration dictionary\n",
    "        \"\"\"\n",
    "        ..."
   ]
  },
  {
   "cell_type": "markdown",
   "id": "7dd3f73d",
   "metadata": {},
   "source": [
    "## Resource Manager Protocol"
   ]
  },
  {
   "cell_type": "code",
   "execution_count": null,
   "id": "91b8c135",
   "metadata": {},
   "outputs": [],
   "source": [
    "#| export\n",
    "class ResourceManagerProtocol(Protocol):\n",
    "    \"\"\"Protocol for resource management integration.\"\"\"\n",
    "    \n",
    "    def register_worker(\n",
    "        self,\n",
    "        pid: int,  # Worker process ID\n",
    "        worker_type: str  # Type of worker (e.g., 'transcription', 'llm')\n",
    "    ) -> None:\n",
    "        \"\"\"\n",
    "        Register a new worker process.\n",
    "        \n",
    "        Args:\n",
    "            pid: Process ID of the worker\n",
    "            worker_type: Type identifier for the worker\n",
    "        \"\"\"\n",
    "        ...\n",
    "    \n",
    "    def unregister_worker(self, pid: int) -> None:\n",
    "        \"\"\"\n",
    "        Unregister a worker process.\n",
    "        \n",
    "        Args:\n",
    "            pid: Process ID of the worker to unregister\n",
    "        \"\"\"\n",
    "        ...\n",
    "    \n",
    "    def update_worker_state(\n",
    "        self,\n",
    "        pid: int,  # Worker process ID\n",
    "        **kwargs  # State attributes to update (job_id, plugin_name, status, etc.)\n",
    "    ) -> None:\n",
    "        \"\"\"\n",
    "        Update worker state information.\n",
    "        \n",
    "        Args:\n",
    "            pid: Process ID of the worker\n",
    "            **kwargs: State attributes (e.g., job_id='abc', status='running')\n",
    "        \"\"\"\n",
    "        ..."
   ]
  },
  {
   "cell_type": "markdown",
   "id": "f33024b0",
   "metadata": {},
   "source": [
    "## Event Broadcaster Protocol"
   ]
  },
  {
   "cell_type": "code",
   "execution_count": null,
   "id": "fe32f4ac",
   "metadata": {},
   "outputs": [],
   "source": [
    "#| export\n",
    "class EventBroadcasterProtocol(Protocol):\n",
    "    \"\"\"Protocol for SSE event broadcasting.\"\"\"\n",
    "    \n",
    "    async def broadcast(\n",
    "        self,\n",
    "        event_type: str,  # Event type identifier\n",
    "        data: Dict[str, Any]  # Event data payload\n",
    "    ) -> None:\n",
    "        \"\"\"\n",
    "        Broadcast an event to all connected clients.\n",
    "        \n",
    "        Args:\n",
    "            event_type: Type of event (e.g., 'job:started', 'job:completed')\n",
    "            data: Event data to broadcast\n",
    "        \"\"\"\n",
    "        ..."
   ]
  },
  {
   "cell_type": "markdown",
   "id": "c0181515",
   "metadata": {},
   "source": [
    "## Usage Examples\n",
    "\n",
    "These protocols enable flexible integration:\n",
    "\n",
    "```python\n",
    "# Without any integrations\n",
    "manager = MyJobManager(\n",
    "    worker_type=\"my_worker\",\n",
    "    category=\"processing\"\n",
    ")\n",
    "\n",
    "# With plugin registry only\n",
    "manager = MyJobManager(\n",
    "    worker_type=\"my_worker\",\n",
    "    category=\"processing\",\n",
    "    plugin_registry=my_registry\n",
    ")\n",
    "\n",
    "# With all integrations\n",
    "manager = MyJobManager(\n",
    "    worker_type=\"my_worker\",\n",
    "    category=\"processing\",\n",
    "    plugin_registry=my_registry,\n",
    "    resource_manager=my_resource_mgr,\n",
    "    event_broadcaster=my_sse_manager\n",
    ")\n",
    "```"
   ]
  },
  {
   "cell_type": "code",
   "execution_count": null,
   "id": "f71c9178",
   "metadata": {},
   "outputs": [],
   "source": []
  },
  {
   "cell_type": "code",
   "execution_count": null,
   "id": "da0a2a21",
   "metadata": {},
   "outputs": [],
   "source": []
  },
  {
   "cell_type": "code",
   "execution_count": null,
   "id": "fd630455",
   "metadata": {},
   "outputs": [],
   "source": []
  },
  {
   "cell_type": "code",
   "execution_count": null,
   "id": "024face6",
   "metadata": {},
   "outputs": [],
   "source": []
  },
  {
   "cell_type": "code",
   "execution_count": null,
   "id": "4b5c4d91",
   "metadata": {},
   "outputs": [],
   "source": []
  },
  {
   "cell_type": "code",
   "execution_count": null,
   "id": "fcf7c8e7",
   "metadata": {},
   "outputs": [],
   "source": [
    "#| hide\n",
    "import nbdev; nbdev.nbdev_export()"
   ]
  }
 ],
 "metadata": {
  "kernelspec": {
   "display_name": "python3",
   "language": "python",
   "name": "python3"
  }
 },
 "nbformat": 4,
 "nbformat_minor": 5
}
