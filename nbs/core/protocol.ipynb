{
 "cells": [
  {
   "cell_type": "markdown",
   "id": "b6703dcb",
   "metadata": {},
   "source": [
    "# protocol\n",
    "\n",
    "> Protocol definitions for worker communication and plugin manager integration."
   ]
  },
  {
   "cell_type": "code",
   "execution_count": null,
   "id": "896abc01",
   "metadata": {},
   "outputs": [],
   "source": [
    "#| default_exp core.protocol"
   ]
  },
  {
   "cell_type": "code",
   "execution_count": null,
   "id": "a7da383f",
   "metadata": {},
   "outputs": [],
   "source": [
    "#| hide\n",
    "from nbdev.showdoc import *"
   ]
  },
  {
   "cell_type": "code",
   "execution_count": null,
   "id": "62d32f84",
   "metadata": {},
   "outputs": [],
   "source": [
    "#| export\n",
    "from typing import Dict, Any, Optional, Iterator, Protocol\n",
    "from enum import Enum\n",
    "from dataclasses import dataclass"
   ]
  },
  {
   "cell_type": "markdown",
   "id": "6fb21674",
   "metadata": {},
   "source": [
    "## Request and Response Types"
   ]
  },
  {
   "cell_type": "markdown",
   "id": "1h86zy0xwms",
   "metadata": {},
   "source": [
    "These enums define the message types used for communication between the parent process and worker processes. The parent sends requests and the worker responds with various response types."
   ]
  },
  {
   "cell_type": "code",
   "execution_count": null,
   "id": "4d960a01",
   "metadata": {},
   "outputs": [],
   "source": [
    "#| export\n",
    "class WorkerRequestType(Enum):\n",
    "    \"\"\"Types of requests sent to worker process.\"\"\"\n",
    "    INIT = \"init\"\n",
    "    EXECUTE = \"execute\"\n",
    "    RELOAD = \"reload\"\n",
    "    UNLOAD = \"unload\"\n",
    "    GET_STATE = \"get_state\"\n",
    "    STOP = \"stop\""
   ]
  },
  {
   "cell_type": "code",
   "execution_count": null,
   "id": "76d8e40e",
   "metadata": {},
   "outputs": [],
   "source": [
    "#| export\n",
    "class WorkerResponseType(Enum):\n",
    "    \"\"\"Types of responses from worker process.\"\"\"\n",
    "    READY = \"ready\"\n",
    "    RESULT = \"result\"\n",
    "    STREAM_CHUNK = \"stream_chunk\"\n",
    "    RESPONSE = \"response\"\n",
    "    STATE = \"state\"\n",
    "    ERROR = \"error\""
   ]
  },
  {
   "cell_type": "markdown",
   "id": "81c4b37e",
   "metadata": {},
   "source": [
    "## Data Structures"
   ]
  },
  {
   "cell_type": "markdown",
   "id": "xn358bza8xr",
   "metadata": {},
   "source": [
    "These dataclasses define the structure of messages passed through multiprocessing queues. They provide `to_dict()` and `from_dict()` methods for serialization since objects passed through queues need to be picklable."
   ]
  },
  {
   "cell_type": "code",
   "execution_count": null,
   "id": "11e4f53d",
   "metadata": {},
   "outputs": [],
   "source": [
    "#| export\n",
    "@dataclass\n",
    "class WorkerRequest:\n",
    "    \"\"\"Base structure for worker requests.\"\"\"\n",
    "    type: WorkerRequestType\n",
    "    data: Dict[str, Any]\n",
    "\n",
    "    def to_dict(self) -> Dict[str, Any]:\n",
    "        \"\"\"Convert to dictionary for queue serialization.\"\"\"\n",
    "        return {\n",
    "            'type': self.type.value,\n",
    "            **self.data\n",
    "        }\n",
    "\n",
    "    @classmethod\n",
    "    def from_dict(cls, data: Dict[str, Any]) -> 'WorkerRequest':\n",
    "        \"\"\"Create from dictionary received from queue.\"\"\"\n",
    "        req_type = WorkerRequestType(data['type'])\n",
    "        request_data = {k: v for k, v in data.items() if k != 'type'}\n",
    "        return cls(type=req_type, data=request_data)"
   ]
  },
  {
   "cell_type": "code",
   "execution_count": null,
   "id": "69oumpgd6nu",
   "metadata": {},
   "outputs": [
    {
     "data": {
      "text/plain": [
       "WorkerRequest(type=<WorkerRequestType.EXECUTE: 'execute'>, data={'job_id': 'test-123', 'plugin_name': 'test_plugin', 'param1': 'value1'})"
      ]
     },
     "execution_count": null,
     "metadata": {},
     "output_type": "execute_result"
    }
   ],
   "source": [
    "# Test WorkerRequest serialization\n",
    "request = WorkerRequest(\n",
    "    type=WorkerRequestType.EXECUTE,\n",
    "    data={'job_id': 'test-123', 'plugin_name': 'test_plugin', 'param1': 'value1'}\n",
    ")\n",
    "request"
   ]
  },
  {
   "cell_type": "code",
   "execution_count": null,
   "id": "qgqdq1o27p",
   "metadata": {},
   "outputs": [
    {
     "data": {
      "text/plain": [
       "{'type': 'execute',\n",
       " 'job_id': 'test-123',\n",
       " 'plugin_name': 'test_plugin',\n",
       " 'param1': 'value1'}"
      ]
     },
     "execution_count": null,
     "metadata": {},
     "output_type": "execute_result"
    }
   ],
   "source": [
    "# Test to_dict conversion\n",
    "request_dict = request.to_dict()\n",
    "request_dict"
   ]
  },
  {
   "cell_type": "code",
   "execution_count": null,
   "id": "0uz7a9u6rp3",
   "metadata": {},
   "outputs": [
    {
     "data": {
      "text/plain": [
       "WorkerRequest(type=<WorkerRequestType.EXECUTE: 'execute'>, data={'job_id': 'test-123', 'plugin_name': 'test_plugin', 'param1': 'value1'})"
      ]
     },
     "execution_count": null,
     "metadata": {},
     "output_type": "execute_result"
    }
   ],
   "source": [
    "# Test from_dict deserialization\n",
    "restored_request = WorkerRequest.from_dict(request_dict)\n",
    "restored_request"
   ]
  },
  {
   "cell_type": "code",
   "execution_count": null,
   "id": "9e16cc3f",
   "metadata": {},
   "outputs": [],
   "source": [
    "#| export\n",
    "@dataclass\n",
    "class WorkerResponse:\n",
    "    \"\"\"Base structure for worker responses.\"\"\"\n",
    "    type: WorkerResponseType\n",
    "    data: Dict[str, Any]\n",
    "\n",
    "    def to_dict(self) -> Dict[str, Any]:\n",
    "        \"\"\"Convert to dictionary for queue serialization.\"\"\"\n",
    "        return {\n",
    "            'type': self.type.value,\n",
    "            **self.data\n",
    "        }\n",
    "\n",
    "    @classmethod\n",
    "    def from_dict(cls, data: Dict[str, Any]) -> 'WorkerResponse':\n",
    "        \"\"\"Create from dictionary received from queue.\"\"\"\n",
    "        resp_type = WorkerResponseType(data['type'])\n",
    "        response_data = {k: v for k, v in data.items() if k != 'type'}\n",
    "        return cls(type=resp_type, data=response_data)"
   ]
  },
  {
   "cell_type": "code",
   "execution_count": null,
   "id": "m8soprrlcf8",
   "metadata": {},
   "outputs": [
    {
     "data": {
      "text/plain": [
       "{'type': 'result',\n",
       " 'job_id': 'test-123',\n",
       " 'status': 'success',\n",
       " 'data': {'output': 'result'}}"
      ]
     },
     "execution_count": null,
     "metadata": {},
     "output_type": "execute_result"
    }
   ],
   "source": [
    "# Test WorkerResponse\n",
    "response = WorkerResponse(\n",
    "    type=WorkerResponseType.RESULT,\n",
    "    data={'job_id': 'test-123', 'status': 'success', 'data': {'output': 'result'}}\n",
    ")\n",
    "response_dict = response.to_dict()\n",
    "response_dict"
   ]
  },
  {
   "cell_type": "code",
   "execution_count": null,
   "id": "3a8c56f3",
   "metadata": {},
   "outputs": [],
   "source": [
    "#| export\n",
    "@dataclass\n",
    "class WorkerStreamChunk:\n",
    "    \"\"\"Structure for streaming job results.\"\"\"\n",
    "    job_id: str  # Unique identifier for the job\n",
    "    chunk: str  # Text chunk from streaming output\n",
    "    is_final: bool = False  # Whether this is the final chunk\n",
    "    metadata: Optional[Dict[str, Any]] = None  # Optional metadata\n",
    "\n",
    "    def to_dict(self) -> Dict[str, Any]:\n",
    "        \"\"\"Convert to dictionary for queue serialization.\"\"\"\n",
    "        return {\n",
    "            'type': WorkerResponseType.STREAM_CHUNK.value,\n",
    "            'job_id': self.job_id,\n",
    "            'chunk': self.chunk,\n",
    "            'is_final': self.is_final,\n",
    "            'metadata': self.metadata or {}\n",
    "        }"
   ]
  },
  {
   "cell_type": "code",
   "execution_count": null,
   "id": "5ad50uqtxtc",
   "metadata": {},
   "outputs": [
    {
     "data": {
      "text/plain": [
       "{'type': 'stream_chunk',\n",
       " 'job_id': 'test-456',\n",
       " 'chunk': 'This is a streaming chunk',\n",
       " 'is_final': False,\n",
       " 'metadata': {'index': 1}}"
      ]
     },
     "execution_count": null,
     "metadata": {},
     "output_type": "execute_result"
    }
   ],
   "source": [
    "# Test WorkerStreamChunk\n",
    "chunk = WorkerStreamChunk(\n",
    "    job_id='test-456',\n",
    "    chunk='This is a streaming chunk',\n",
    "    is_final=False,\n",
    "    metadata={'index': 1}\n",
    ")\n",
    "chunk.to_dict()"
   ]
  },
  {
   "cell_type": "code",
   "execution_count": null,
   "id": "ae2b423b",
   "metadata": {},
   "outputs": [],
   "source": [
    "#| export\n",
    "@dataclass\n",
    "class WorkerResult:\n",
    "    \"\"\"Structure for job execution results.\"\"\"\n",
    "    job_id: str  # Unique identifier for the job\n",
    "    status: str  # 'success' or 'error'\n",
    "    data: Optional[Dict[str, Any]] = None  # Result data on success\n",
    "    error: Optional[str] = None  # Error message on failure\n",
    "\n",
    "    def to_dict(self) -> Dict[str, Any]:\n",
    "        \"\"\"Convert to dictionary for queue serialization.\"\"\"\n",
    "        result = {\n",
    "            'type': WorkerResponseType.RESULT.value,\n",
    "            'job_id': self.job_id,\n",
    "            'status': self.status,\n",
    "        }\n",
    "        if self.data is not None:\n",
    "            result['data'] = self.data\n",
    "        if self.error is not None:\n",
    "            result['error'] = self.error\n",
    "        return result"
   ]
  },
  {
   "cell_type": "code",
   "execution_count": null,
   "id": "kyhwvvcbuvp",
   "metadata": {},
   "outputs": [
    {
     "data": {
      "text/plain": [
       "{'type': 'result',\n",
       " 'job_id': 'test-789',\n",
       " 'status': 'success',\n",
       " 'data': {'text': 'Job completed successfully', 'metadata': {'time': 1.5}}}"
      ]
     },
     "execution_count": null,
     "metadata": {},
     "output_type": "execute_result"
    }
   ],
   "source": [
    "# Test WorkerResult - success case\n",
    "result = WorkerResult(\n",
    "    job_id='test-789',\n",
    "    status='success',\n",
    "    data={'text': 'Job completed successfully', 'metadata': {'time': 1.5}}\n",
    ")\n",
    "result.to_dict()"
   ]
  },
  {
   "cell_type": "code",
   "execution_count": null,
   "id": "3j2qcvb3ha2",
   "metadata": {},
   "outputs": [
    {
     "data": {
      "text/plain": [
       "{'type': 'result',\n",
       " 'job_id': 'test-999',\n",
       " 'status': 'error',\n",
       " 'error': 'Plugin execution failed: Invalid input'}"
      ]
     },
     "execution_count": null,
     "metadata": {},
     "output_type": "execute_result"
    }
   ],
   "source": [
    "# Test WorkerResult - error case\n",
    "error_result = WorkerResult(\n",
    "    job_id='test-999',\n",
    "    status='error',\n",
    "    error='Plugin execution failed: Invalid input'\n",
    ")\n",
    "error_result.to_dict()"
   ]
  },
  {
   "cell_type": "markdown",
   "id": "7f54d57c",
   "metadata": {},
   "source": [
    "## Plugin Manager Protocol"
   ]
  },
  {
   "cell_type": "markdown",
   "id": "lme8w339qj",
   "metadata": {},
   "source": [
    "The `PluginManagerAdapter` is a Protocol class that uses structural subtyping (duck typing). Any class that implements these methods will satisfy the protocol, even without explicit inheritance.\n",
    "\n",
    "This protocol defines the interface that plugin managers must implement to work with the worker system. It handles:\n",
    "- Plugin discovery and loading\n",
    "- Plugin execution (both standard and streaming)\n",
    "- Plugin lifecycle management (reload/unload)\n",
    "- Streaming capability detection"
   ]
  },
  {
   "cell_type": "code",
   "execution_count": null,
   "id": "8f3fa35d",
   "metadata": {},
   "outputs": [],
   "source": [
    "#| export\n",
    "class PluginManagerAdapter(Protocol):\n",
    "    \"\"\"\n",
    "    Protocol that plugin managers must satisfy for worker integration.\n",
    "\n",
    "    Uses structural subtyping (duck typing) - plugin managers don't need to\n",
    "    explicitly inherit from this, they just need to implement these methods.\n",
    "    \"\"\"\n",
    "\n",
    "    def discover_plugins(self) -> list:\n",
    "        \"\"\"\n",
    "        Discover available plugins.\n",
    "\n",
    "        Returns:\n",
    "            List of plugin metadata/data objects\n",
    "        \"\"\"\n",
    "        ...\n",
    "\n",
    "    def load_plugin(self, plugin_data: Any, config: Dict[str, Any]) -> None:\n",
    "        \"\"\"\n",
    "        Load a plugin with configuration.\n",
    "\n",
    "        Args:\n",
    "            plugin_data: Plugin metadata/data from discovery\n",
    "            config: Plugin configuration dictionary\n",
    "        \"\"\"\n",
    "        ...\n",
    "\n",
    "    def execute_plugin(self, plugin_name: str, **params) -> Any:\n",
    "        \"\"\"\n",
    "        Execute a plugin with given parameters.\n",
    "\n",
    "        Args:\n",
    "            plugin_name: Name of the plugin to execute\n",
    "            **params: Plugin-specific parameters\n",
    "\n",
    "        Returns:\n",
    "            Plugin execution result\n",
    "        \"\"\"\n",
    "        ...\n",
    "\n",
    "    def execute_plugin_stream(self, plugin_name: str, **params) -> Iterator[str]:\n",
    "        \"\"\"\n",
    "        Execute a plugin with streaming output.\n",
    "\n",
    "        Args:\n",
    "            plugin_name: Name of the plugin to execute\n",
    "            **params: Plugin-specific parameters\n",
    "\n",
    "        Yields:\n",
    "            String chunks from plugin execution\n",
    "        \"\"\"\n",
    "        ...\n",
    "\n",
    "    def reload_plugin(self, plugin_name: str, config: Optional[Dict[str, Any]] = None) -> None:\n",
    "        \"\"\"\n",
    "        Reload a plugin with new configuration.\n",
    "\n",
    "        Args:\n",
    "            plugin_name: Name of the plugin to reload\n",
    "            config: New configuration (None to unload)\n",
    "        \"\"\"\n",
    "        ...\n",
    "\n",
    "    def unload_plugin(self, plugin_name: str) -> None:\n",
    "        \"\"\"\n",
    "        Unload a plugin to free resources.\n",
    "\n",
    "        Args:\n",
    "            plugin_name: Name of the plugin to unload\n",
    "        \"\"\"\n",
    "        ...\n",
    "\n",
    "    def check_streaming_support(self, plugin_name: str) -> bool:\n",
    "        \"\"\"\n",
    "        Check if a plugin supports streaming execution.\n",
    "\n",
    "        Args:\n",
    "            plugin_name: Name of the plugin to check\n",
    "\n",
    "        Returns:\n",
    "            True if plugin supports streaming\n",
    "        \"\"\"\n",
    "        ..."
   ]
  },
  {
   "cell_type": "code",
   "execution_count": null,
   "id": "41446942",
   "metadata": {},
   "outputs": [],
   "source": []
  },
  {
   "cell_type": "code",
   "execution_count": null,
   "id": "de63eaf7",
   "metadata": {},
   "outputs": [],
   "source": []
  },
  {
   "cell_type": "code",
   "execution_count": null,
   "id": "4acda558",
   "metadata": {},
   "outputs": [],
   "source": []
  },
  {
   "cell_type": "code",
   "execution_count": null,
   "id": "b4beb604",
   "metadata": {},
   "outputs": [],
   "source": []
  },
  {
   "cell_type": "code",
   "execution_count": null,
   "id": "d31a897b",
   "metadata": {},
   "outputs": [],
   "source": []
  },
  {
   "cell_type": "code",
   "execution_count": null,
   "id": "7a9d3a4f",
   "metadata": {},
   "outputs": [],
   "source": [
    "#| hide\n",
    "import nbdev; nbdev.nbdev_export()"
   ]
  }
 ],
 "metadata": {
  "kernelspec": {
   "display_name": "python3",
   "language": "python",
   "name": "python3"
  }
 },
 "nbformat": 4,
 "nbformat_minor": 5
}
