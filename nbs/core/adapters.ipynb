{
 "cells": [
  {
   "cell_type": "markdown",
   "id": "3df9e4a5",
   "metadata": {},
   "source": [
    "# adapters\n",
    "\n",
    "> Adapter utilities for making plugin managers compatible with the worker system."
   ]
  },
  {
   "cell_type": "code",
   "execution_count": null,
   "id": "2badd37c",
   "metadata": {},
   "outputs": [],
   "source": [
    "#| default_exp core.adapters"
   ]
  },
  {
   "cell_type": "code",
   "execution_count": null,
   "id": "00ad71e2",
   "metadata": {},
   "outputs": [],
   "source": [
    "#| hide\n",
    "from nbdev.showdoc import *"
   ]
  },
  {
   "cell_type": "code",
   "execution_count": null,
   "id": "cf388f12",
   "metadata": {},
   "outputs": [],
   "source": [
    "#| export\n",
    "from typing import Dict, Any, Iterator, Optional\n",
    "from cjm_fasthtml_workers.core.protocol import PluginManagerAdapter"
   ]
  },
  {
   "cell_type": "markdown",
   "id": "54717074",
   "metadata": {},
   "source": [
    "## Simple Adapter Factory"
   ]
  },
  {
   "cell_type": "code",
   "execution_count": null,
   "id": "f0f31171",
   "metadata": {},
   "outputs": [],
   "source": [
    "#| export\n",
    "def create_simple_adapter(\n",
    "    plugin_manager,  # The plugin manager instance to adapt\n",
    "    result_adapter: Optional[callable] = None  # Optional function to convert plugin results to dict\n",
    ") -> PluginManagerAdapter:  # Adapter that satisfies PluginManagerAdapter protocol\n",
    "    \"\"\"\n",
    "    Create a simple adapter for a plugin manager.\n",
    "\n",
    "    This is a convenience function that wraps a plugin manager object\n",
    "    to satisfy the PluginManagerAdapter protocol.\n",
    "\n",
    "    Example:\n",
    "        >>> from some_plugin_system import PluginManager\n",
    "        >>> pm = PluginManager()\n",
    "        >>> adapter = create_simple_adapter(pm)\n",
    "        >>> # adapter now satisfies PluginManagerAdapter protocol\n",
    "    \"\"\"\n",
    "\n",
    "    class SimpleAdapter:\n",
    "        \"\"\"Simple wrapper adapter for plugin managers.\"\"\"\n",
    "\n",
    "        def __init__(self, manager, result_fn=None):\n",
    "            self._manager = manager\n",
    "            self._result_adapter = result_fn\n",
    "\n",
    "        def discover_plugins(self) -> list:\n",
    "            \"\"\"Discover available plugins.\"\"\"\n",
    "            return self._manager.discover_plugins()\n",
    "\n",
    "        def load_plugin(self, plugin_data: Any, config: Dict[str, Any]) -> None:\n",
    "            \"\"\"Load a plugin with configuration.\"\"\"\n",
    "            self._manager.load_plugin(plugin_data, config)\n",
    "\n",
    "        def execute_plugin(self, plugin_name: str, **params) -> Any:\n",
    "            \"\"\"Execute a plugin with given parameters.\"\"\"\n",
    "            result = self._manager.execute_plugin(plugin_name, **params)\n",
    "\n",
    "            # Apply result adapter if provided\n",
    "            if self._result_adapter:\n",
    "                return self._result_adapter(result)\n",
    "\n",
    "            return result\n",
    "\n",
    "        def execute_plugin_stream(self, plugin_name: str, **params) -> Iterator[str]:\n",
    "            \"\"\"Execute a plugin with streaming output.\"\"\"\n",
    "            return self._manager.execute_plugin_stream(plugin_name, **params)\n",
    "\n",
    "        def reload_plugin(self, plugin_name: str, config: Optional[Dict[str, Any]] = None) -> None:\n",
    "            \"\"\"Reload a plugin with new configuration.\"\"\"\n",
    "            self._manager.reload_plugin(plugin_name, config)\n",
    "\n",
    "        def unload_plugin(self, plugin_name: str) -> None:\n",
    "            \"\"\"Unload a plugin to free resources.\"\"\"\n",
    "            self._manager.unload_plugin(plugin_name)\n",
    "\n",
    "        def check_streaming_support(self, plugin_name: str) -> bool:\n",
    "            \"\"\"Check if a plugin supports streaming execution.\"\"\"\n",
    "            return self._manager.check_streaming_support(plugin_name)\n",
    "\n",
    "    return SimpleAdapter(plugin_manager, result_adapter)"
   ]
  },
  {
   "cell_type": "markdown",
   "id": "b33be81e",
   "metadata": {},
   "source": [
    "## Default Result Adapter"
   ]
  },
  {
   "cell_type": "code",
   "execution_count": null,
   "id": "0e3f731d",
   "metadata": {},
   "outputs": [],
   "source": [
    "#| export\n",
    "def default_result_adapter(\n",
    "    result: Any  # Plugin execution result\n",
    ") -> Dict[str, Any]:  # Dictionary with text and metadata\n",
    "    \"\"\"\n",
    "    Default adapter for converting plugin results to dictionaries.\n",
    "\n",
    "    Assumes result has 'text' and 'metadata' attributes.\n",
    "    \"\"\"\n",
    "    if isinstance(result, dict):\n",
    "        return result\n",
    "\n",
    "    return {\n",
    "        'text': getattr(result, 'text', str(result)),\n",
    "        'metadata': getattr(result, 'metadata', {})\n",
    "    }"
   ]
  },
  {
   "cell_type": "code",
   "execution_count": null,
   "id": "573e7fa8",
   "metadata": {},
   "outputs": [
    {
     "data": {
      "text/plain": [
       "{'text': 'Hello', 'metadata': {'key': 'value'}}"
      ]
     },
     "execution_count": null,
     "metadata": {},
     "output_type": "execute_result"
    }
   ],
   "source": [
    "# Test with dict input\n",
    "result_dict = {'text': 'Hello', 'metadata': {'key': 'value'}}\n",
    "default_result_adapter(result_dict)"
   ]
  },
  {
   "cell_type": "code",
   "execution_count": null,
   "id": "05be9809",
   "metadata": {},
   "outputs": [
    {
     "data": {
      "text/plain": [
       "{'text': 'Result text', 'metadata': {'source': 'test'}}"
      ]
     },
     "execution_count": null,
     "metadata": {},
     "output_type": "execute_result"
    }
   ],
   "source": [
    "# Test with object that has text and metadata attributes\n",
    "class DummyResult:\n",
    "    def __init__(self):\n",
    "        self.text = \"Result text\"\n",
    "        self.metadata = {\"source\": \"test\"}\n",
    "\n",
    "default_result_adapter(DummyResult())"
   ]
  },
  {
   "cell_type": "code",
   "execution_count": null,
   "id": "2bf456b3",
   "metadata": {},
   "outputs": [
    {
     "data": {
      "text/plain": [
       "{'text': 'Plain text result', 'metadata': {}}"
      ]
     },
     "execution_count": null,
     "metadata": {},
     "output_type": "execute_result"
    }
   ],
   "source": [
    "# Test with plain string\n",
    "default_result_adapter(\"Plain text result\")"
   ]
  },
  {
   "cell_type": "code",
   "execution_count": null,
   "id": "f4db4581",
   "metadata": {},
   "outputs": [],
   "source": []
  },
  {
   "cell_type": "code",
   "execution_count": null,
   "id": "92618914",
   "metadata": {},
   "outputs": [],
   "source": []
  },
  {
   "cell_type": "code",
   "execution_count": null,
   "id": "09774217",
   "metadata": {},
   "outputs": [],
   "source": []
  },
  {
   "cell_type": "code",
   "execution_count": null,
   "id": "fc93c997",
   "metadata": {},
   "outputs": [],
   "source": [
    "#| hide\n",
    "import nbdev; nbdev.nbdev_export()"
   ]
  }
 ],
 "metadata": {
  "kernelspec": {
   "display_name": "python3",
   "language": "python",
   "name": "python3"
  }
 },
 "nbformat": 4,
 "nbformat_minor": 5
}
