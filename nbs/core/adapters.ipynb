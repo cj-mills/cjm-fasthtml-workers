{
 "cells": [
  {
   "cell_type": "markdown",
   "id": "3df9e4a5",
   "metadata": {},
   "source": [
    "# adapters\n",
    "\n",
    "> Adapter utilities for making plugin managers compatible with the worker system."
   ]
  },
  {
   "cell_type": "code",
   "execution_count": null,
   "id": "2badd37c",
   "metadata": {},
   "outputs": [],
   "source": [
    "#| default_exp core.adapters"
   ]
  },
  {
   "cell_type": "code",
   "execution_count": null,
   "id": "00ad71e2",
   "metadata": {},
   "outputs": [],
   "source": [
    "#| hide\n",
    "from nbdev.showdoc import *"
   ]
  },
  {
   "cell_type": "code",
   "execution_count": null,
   "id": "cf388f12",
   "metadata": {},
   "outputs": [],
   "source": [
    "#| export\n",
    "from typing import Dict, Any, Iterator, Optional\n",
    "from cjm_fasthtml_workers.core.protocol import PluginManagerAdapter"
   ]
  },
  {
   "cell_type": "markdown",
   "id": "54717074",
   "metadata": {},
   "source": [
    "## Simple Adapter Factory"
   ]
  },
  {
   "cell_type": "code",
   "execution_count": null,
   "id": "f0f31171",
   "metadata": {},
   "outputs": [],
   "source": "#| export\ndef create_simple_adapter(\n    plugin_manager:Any,  # The plugin manager instance to adapt\n    result_adapter:Optional[callable]=None  # Optional function to convert plugin results to dict\n) -> PluginManagerAdapter:  # Adapter that satisfies PluginManagerAdapter protocol\n    \"\"\"Create a simple adapter for a plugin manager.\"\"\"\n\n    class SimpleAdapter:\n        \"\"\"Simple wrapper adapter for plugin managers.\"\"\"\n\n        def __init__(self, manager, result_fn=None):\n            self._manager = manager\n            self._result_adapter = result_fn\n\n        def discover_plugins(self) -> list:\n            \"\"\"Discover available plugins.\"\"\"\n            return self._manager.discover_plugins()\n\n        def load_plugin(self, plugin_data: Any, config: Dict[str, Any]) -> None:\n            \"\"\"Load a plugin with configuration.\"\"\"\n            self._manager.load_plugin(plugin_data, config)\n\n        def execute_plugin(self, plugin_name: str, **params) -> Any:\n            \"\"\"Execute a plugin with given parameters.\"\"\"\n            result = self._manager.execute_plugin(plugin_name, **params)\n\n            # Apply result adapter if provided\n            if self._result_adapter:\n                return self._result_adapter(result)\n\n            return result\n\n        def execute_plugin_stream(self, plugin_name: str, **params) -> Iterator[str]:\n            \"\"\"Execute a plugin with streaming output.\"\"\"\n            return self._manager.execute_plugin_stream(plugin_name, **params)\n\n        def reload_plugin(self, plugin_name: str, config: Optional[Dict[str, Any]] = None) -> None:\n            \"\"\"Reload a plugin with new configuration.\"\"\"\n            self._manager.reload_plugin(plugin_name, config)\n\n        def unload_plugin(self, plugin_name: str) -> None:\n            \"\"\"Unload a plugin to free resources.\"\"\"\n            self._manager.unload_plugin(plugin_name)\n\n        def check_streaming_support(self, plugin_name: str) -> bool:\n            \"\"\"Check if a plugin supports streaming execution.\"\"\"\n            return self._manager.check_streaming_support(plugin_name)\n\n    return SimpleAdapter(plugin_manager, result_adapter)"
  },
  {
   "cell_type": "markdown",
   "id": "iucw13cf13",
   "metadata": {},
   "source": [
    "The `create_simple_adapter` function is useful when you have an existing plugin manager that doesn't explicitly implement the `PluginManagerAdapter` protocol. It wraps your plugin manager and ensures it has all the required methods.\n",
    "\n",
    "You can optionally provide a `result_adapter` function to transform plugin execution results into a standard dictionary format. This is helpful when different plugins return results in different formats."
   ]
  },
  {
   "cell_type": "code",
   "execution_count": null,
   "id": "3rt2ejparkl",
   "metadata": {},
   "outputs": [
    {
     "data": {
      "text/plain": [
       "<__main__.create_simple_adapter.<locals>.SimpleAdapter>"
      ]
     },
     "execution_count": null,
     "metadata": {},
     "output_type": "execute_result"
    }
   ],
   "source": [
    "# Create a mock plugin manager for testing\n",
    "class MockPluginManager:\n",
    "    def discover_plugins(self):\n",
    "        return [type('Plugin', (), {'name': 'test_plugin'})]\n",
    "    \n",
    "    def load_plugin(self, plugin_data, config):\n",
    "        pass\n",
    "    \n",
    "    def execute_plugin(self, plugin_name, **params):\n",
    "        return {'result': f'Executed {plugin_name}'}\n",
    "    \n",
    "    def execute_plugin_stream(self, plugin_name, **params):\n",
    "        yield f'Stream from {plugin_name}'\n",
    "    \n",
    "    def reload_plugin(self, plugin_name, config=None):\n",
    "        pass\n",
    "    \n",
    "    def unload_plugin(self, plugin_name):\n",
    "        pass\n",
    "    \n",
    "    def check_streaming_support(self, plugin_name):\n",
    "        return True\n",
    "\n",
    "# Test creating an adapter\n",
    "mock_manager = MockPluginManager()\n",
    "adapter = create_simple_adapter(mock_manager)\n",
    "adapter"
   ]
  },
  {
   "cell_type": "code",
   "execution_count": null,
   "id": "6947ao7do1r",
   "metadata": {},
   "outputs": [
    {
     "data": {
      "text/plain": [
       "[__main__.Plugin]"
      ]
     },
     "execution_count": null,
     "metadata": {},
     "output_type": "execute_result"
    }
   ],
   "source": [
    "# Test adapter methods\n",
    "adapter.discover_plugins()"
   ]
  },
  {
   "cell_type": "code",
   "execution_count": null,
   "id": "jvb8iabjk7m",
   "metadata": {},
   "outputs": [
    {
     "data": {
      "text/plain": [
       "{'result': 'Executed test_plugin'}"
      ]
     },
     "execution_count": null,
     "metadata": {},
     "output_type": "execute_result"
    }
   ],
   "source": [
    "# Test execution\n",
    "adapter.execute_plugin('test_plugin', param1='value1')"
   ]
  },
  {
   "cell_type": "code",
   "execution_count": null,
   "id": "8ih4l9mppn7",
   "metadata": {},
   "outputs": [
    {
     "data": {
      "text/plain": [
       "{'transformed': True, 'original': {'result': 'Executed test_plugin'}}"
      ]
     },
     "execution_count": null,
     "metadata": {},
     "output_type": "execute_result"
    }
   ],
   "source": [
    "# Test with custom result adapter\n",
    "def custom_adapter(result):\n",
    "    return {'transformed': True, 'original': result}\n",
    "\n",
    "adapter_with_transform = create_simple_adapter(mock_manager, result_adapter=custom_adapter)\n",
    "adapter_with_transform.execute_plugin('test_plugin')"
   ]
  },
  {
   "cell_type": "markdown",
   "id": "5c8f34ff-6dab-4eb3-8a24-4ab5ee2b4c6f",
   "metadata": {},
   "source": [
    "## Default Result Adapter"
   ]
  },
  {
   "cell_type": "code",
   "execution_count": null,
   "id": "0e3f731d",
   "metadata": {},
   "outputs": [],
   "source": "#| export\ndef default_result_adapter(\n    result:Any  # Plugin execution result\n) -> Dict[str, Any]:  # Dictionary with text and metadata\n    \"\"\"Default adapter for converting plugin results to dictionaries.\"\"\"\n    if isinstance(result, dict):\n        return result\n\n    return {\n        'text': getattr(result, 'text', str(result)),\n        'metadata': getattr(result, 'metadata', {})\n    }"
  },
  {
   "cell_type": "markdown",
   "id": "eadd4hxvxar",
   "metadata": {},
   "source": [
    "The `default_result_adapter` handles three common cases:\n",
    "1. Results that are already dictionaries (pass-through)\n",
    "2. Objects with `text` and `metadata` attributes\n",
    "3. Plain values (converted to string for the `text` field)"
   ]
  },
  {
   "cell_type": "code",
   "execution_count": null,
   "id": "573e7fa8",
   "metadata": {},
   "outputs": [
    {
     "data": {
      "text/plain": [
       "{'text': 'Hello', 'metadata': {'key': 'value'}}"
      ]
     },
     "execution_count": null,
     "metadata": {},
     "output_type": "execute_result"
    }
   ],
   "source": [
    "# Test with dict input\n",
    "result_dict = {'text': 'Hello', 'metadata': {'key': 'value'}}\n",
    "default_result_adapter(result_dict)"
   ]
  },
  {
   "cell_type": "code",
   "execution_count": null,
   "id": "05be9809",
   "metadata": {},
   "outputs": [
    {
     "data": {
      "text/plain": [
       "{'text': 'Result text', 'metadata': {'source': 'test'}}"
      ]
     },
     "execution_count": null,
     "metadata": {},
     "output_type": "execute_result"
    }
   ],
   "source": [
    "# Test with object that has text and metadata attributes\n",
    "class DummyResult:\n",
    "    def __init__(self):\n",
    "        self.text = \"Result text\"\n",
    "        self.metadata = {\"source\": \"test\"}\n",
    "\n",
    "default_result_adapter(DummyResult())"
   ]
  },
  {
   "cell_type": "code",
   "execution_count": null,
   "id": "2bf456b3",
   "metadata": {},
   "outputs": [
    {
     "data": {
      "text/plain": [
       "{'text': 'Plain text result', 'metadata': {}}"
      ]
     },
     "execution_count": null,
     "metadata": {},
     "output_type": "execute_result"
    }
   ],
   "source": [
    "# Test with plain string\n",
    "default_result_adapter(\"Plain text result\")"
   ]
  },
  {
   "cell_type": "code",
   "execution_count": null,
   "id": "f4db4581",
   "metadata": {},
   "outputs": [],
   "source": []
  },
  {
   "cell_type": "code",
   "execution_count": null,
   "id": "92618914",
   "metadata": {},
   "outputs": [],
   "source": []
  },
  {
   "cell_type": "code",
   "execution_count": null,
   "id": "09774217",
   "metadata": {},
   "outputs": [],
   "source": []
  },
  {
   "cell_type": "code",
   "execution_count": null,
   "id": "fc93c997",
   "metadata": {},
   "outputs": [],
   "source": [
    "#| hide\n",
    "import nbdev; nbdev.nbdev_export()"
   ]
  }
 ],
 "metadata": {
  "kernelspec": {
   "display_name": "python3",
   "language": "python",
   "name": "python3"
  }
 },
 "nbformat": 4,
 "nbformat_minor": 5
}
