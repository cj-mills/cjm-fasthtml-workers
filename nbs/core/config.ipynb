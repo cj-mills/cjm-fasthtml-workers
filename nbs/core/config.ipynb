{
 "cells": [
  {
   "cell_type": "markdown",
   "id": "b4cf0ad2",
   "metadata": {},
   "source": [
    "# config\n",
    "\n",
    "> Configuration for worker processes including restart policies, timeouts, and queue sizes."
   ]
  },
  {
   "cell_type": "code",
   "execution_count": null,
   "id": "15c3e787",
   "metadata": {},
   "outputs": [],
   "source": [
    "#| default_exp core.config"
   ]
  },
  {
   "cell_type": "code",
   "execution_count": null,
   "id": "ec2da262",
   "metadata": {},
   "outputs": [],
   "source": [
    "#| hide\n",
    "from nbdev.showdoc import *"
   ]
  },
  {
   "cell_type": "code",
   "execution_count": null,
   "id": "be947f60",
   "metadata": {},
   "outputs": [],
   "source": [
    "#| export\n",
    "from dataclasses import dataclass\n",
    "from enum import Enum"
   ]
  },
  {
   "cell_type": "markdown",
   "id": "290301d1",
   "metadata": {},
   "source": [
    "## Restart Policy"
   ]
  },
  {
   "cell_type": "code",
   "execution_count": null,
   "id": "9cb9f1be",
   "metadata": {},
   "outputs": [],
   "source": [
    "#| export\n",
    "class RestartPolicy(Enum):\n",
    "    \"\"\"Policy for restarting worker processes after failures.\"\"\"\n",
    "    NEVER = \"never\"  # Never restart workers\n",
    "    ON_CANCELLATION = \"on_cancellation\"  # Restart only when job is cancelled\n",
    "    ALWAYS = \"always\"  # Always restart on any failure\n",
    "    BACKOFF = \"backoff\"  # Restart with exponential backoff"
   ]
  },
  {
   "cell_type": "code",
   "execution_count": null,
   "id": "4364b5db",
   "metadata": {},
   "outputs": [
    {
     "data": {
      "text/plain": [
       "<RestartPolicy.ON_CANCELLATION: 'on_cancellation'>"
      ]
     },
     "execution_count": null,
     "metadata": {},
     "output_type": "execute_result"
    }
   ],
   "source": [
    "# Example usage\n",
    "RestartPolicy.ON_CANCELLATION"
   ]
  },
  {
   "cell_type": "markdown",
   "id": "acb4cfae",
   "metadata": {},
   "source": [
    "## Worker Configuration"
   ]
  },
  {
   "cell_type": "code",
   "execution_count": null,
   "id": "cc2749e9",
   "metadata": {},
   "outputs": [],
   "source": [
    "#| export\n",
    "@dataclass\n",
    "class WorkerConfig:\n",
    "    \"\"\"Configuration for worker process behavior.\"\"\"\n",
    "\n",
    "    # Queue sizes\n",
    "    request_queue_size: int = 0  # 0 = unlimited\n",
    "    result_queue_size: int = 100  # Larger for streaming results\n",
    "    response_queue_size: int = 10  # For synchronous command responses\n",
    "\n",
    "    # Restart behavior\n",
    "    restart_policy: RestartPolicy = RestartPolicy.ON_CANCELLATION\n",
    "    max_restart_attempts: int = 3\n",
    "    restart_backoff_base_seconds: float = 1.0  # Base delay for exponential backoff\n",
    "    restart_backoff_max_seconds: float = 60.0  # Max delay for backoff\n",
    "\n",
    "    # Worker pool (for future enhancement)\n",
    "    max_workers: int = 1  # Currently only 1 is supported\n",
    "\n",
    "    # Timeouts\n",
    "    worker_start_timeout_seconds: float = 30.0\n",
    "    reload_timeout_seconds: float = 30.0\n",
    "    unload_timeout_seconds: float = 10.0\n",
    "    shutdown_timeout_seconds: float = 5.0\n",
    "\n",
    "    # Monitoring\n",
    "    result_monitor_poll_interval_seconds: float = 0.5\n",
    "\n",
    "    def __post_init__(self):\n",
    "        \"\"\"Validate configuration.\"\"\"\n",
    "        if self.max_workers > 1:\n",
    "            raise NotImplementedError(\n",
    "                f\"Worker pools (max_workers > 1) are not yet implemented. \"\n",
    "                f\"Current value: {self.max_workers}\"\n",
    "            )\n",
    "\n",
    "        if self.max_workers < 1:\n",
    "            raise ValueError(f\"max_workers must be >= 1, got {self.max_workers}\")\n",
    "\n",
    "        if self.max_restart_attempts < 0:\n",
    "            raise ValueError(f\"max_restart_attempts must be >= 0, got {self.max_restart_attempts}\")\n",
    "\n",
    "        if self.restart_backoff_base_seconds <= 0:\n",
    "            raise ValueError(\n",
    "                f\"restart_backoff_base_seconds must be > 0, got {self.restart_backoff_base_seconds}\"\n",
    "            )"
   ]
  },
  {
   "cell_type": "code",
   "execution_count": null,
   "id": "aa1bbd62",
   "metadata": {},
   "outputs": [
    {
     "data": {
      "text/plain": [
       "WorkerConfig(request_queue_size=0, result_queue_size=100, response_queue_size=10, restart_policy=<RestartPolicy.ON_CANCELLATION: 'on_cancellation'>, max_restart_attempts=3, restart_backoff_base_seconds=1.0, restart_backoff_max_seconds=60.0, max_workers=1, worker_start_timeout_seconds=30.0, reload_timeout_seconds=30.0, unload_timeout_seconds=10.0, shutdown_timeout_seconds=5.0, result_monitor_poll_interval_seconds=0.5)"
      ]
     },
     "execution_count": null,
     "metadata": {},
     "output_type": "execute_result"
    }
   ],
   "source": [
    "# Create default config\n",
    "config = WorkerConfig()\n",
    "config"
   ]
  },
  {
   "cell_type": "code",
   "execution_count": null,
   "id": "0704fc7b",
   "metadata": {},
   "outputs": [
    {
     "data": {
      "text/plain": [
       "WorkerConfig(request_queue_size=0, result_queue_size=200, response_queue_size=10, restart_policy=<RestartPolicy.BACKOFF: 'backoff'>, max_restart_attempts=5, restart_backoff_base_seconds=1.0, restart_backoff_max_seconds=60.0, max_workers=1, worker_start_timeout_seconds=30.0, reload_timeout_seconds=30.0, unload_timeout_seconds=10.0, shutdown_timeout_seconds=5.0, result_monitor_poll_interval_seconds=0.5)"
      ]
     },
     "execution_count": null,
     "metadata": {},
     "output_type": "execute_result"
    }
   ],
   "source": [
    "# Create config with custom settings\n",
    "config = WorkerConfig(\n",
    "    restart_policy=RestartPolicy.BACKOFF,\n",
    "    max_restart_attempts=5,\n",
    "    result_queue_size=200\n",
    ")\n",
    "config"
   ]
  },
  {
   "cell_type": "code",
   "execution_count": null,
   "id": "6d672dfb",
   "metadata": {},
   "outputs": [],
   "source": []
  },
  {
   "cell_type": "code",
   "execution_count": null,
   "id": "b9d2decc",
   "metadata": {},
   "outputs": [],
   "source": []
  },
  {
   "cell_type": "code",
   "execution_count": null,
   "id": "dea27dd5",
   "metadata": {},
   "outputs": [],
   "source": []
  },
  {
   "cell_type": "code",
   "execution_count": null,
   "id": "a9bc6a2a",
   "metadata": {},
   "outputs": [],
   "source": [
    "#| hide\n",
    "import nbdev; nbdev.nbdev_export()"
   ]
  }
 ],
 "metadata": {
  "kernelspec": {
   "display_name": "python3",
   "language": "python",
   "name": "python3"
  }
 },
 "nbformat": 4,
 "nbformat_minor": 5
}
